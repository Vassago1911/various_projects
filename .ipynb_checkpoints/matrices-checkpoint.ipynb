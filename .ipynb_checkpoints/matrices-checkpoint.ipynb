{
 "cells": [
  {
   "cell_type": "code",
   "execution_count": 1,
   "id": "c9fc5205-1339-4c38-918c-a92d464aa62a",
   "metadata": {},
   "outputs": [
    {
     "ename": "NameError",
     "evalue": "name 'flag_dict' is not defined",
     "output_type": "error",
     "traceback": [
      "\u001b[0;31m---------------------------------------------------------------------------\u001b[0m",
      "\u001b[0;31mNameError\u001b[0m                                 Traceback (most recent call last)",
      "Cell \u001b[0;32mIn[1], line 53\u001b[0m\n\u001b[1;32m     50\u001b[0m     \u001b[38;5;28;01mreturn\u001b[39;00m (A,ker,dev_b,flag_dict)\n\u001b[1;32m     52\u001b[0m rp2_antichain \u001b[38;5;241m=\u001b[39m [(\u001b[38;5;241m0\u001b[39m,\u001b[38;5;241m1\u001b[39m,\u001b[38;5;241m5\u001b[39m),(\u001b[38;5;241m1\u001b[39m,\u001b[38;5;241m2\u001b[39m,\u001b[38;5;241m5\u001b[39m),(\u001b[38;5;241m2\u001b[39m,\u001b[38;5;241m5\u001b[39m,\u001b[38;5;241m6\u001b[39m),(\u001b[38;5;241m0\u001b[39m,\u001b[38;5;241m2\u001b[39m,\u001b[38;5;241m6\u001b[39m),(\u001b[38;5;241m0\u001b[39m,\u001b[38;5;241m1\u001b[39m,\u001b[38;5;241m6\u001b[39m),(\u001b[38;5;241m1\u001b[39m,\u001b[38;5;241m4\u001b[39m,\u001b[38;5;241m6\u001b[39m),(\u001b[38;5;241m1\u001b[39m,\u001b[38;5;241m2\u001b[39m,\u001b[38;5;241m4\u001b[39m),(\u001b[38;5;241m0\u001b[39m,\u001b[38;5;241m2\u001b[39m,\u001b[38;5;241m4\u001b[39m),(\u001b[38;5;241m0\u001b[39m,\u001b[38;5;241m4\u001b[39m,\u001b[38;5;241m5\u001b[39m),(\u001b[38;5;241m4\u001b[39m,\u001b[38;5;241m5\u001b[39m,\u001b[38;5;241m6\u001b[39m)]\n\u001b[0;32m---> 53\u001b[0m D,Z,B,simplex_dict \u001b[38;5;241m=\u001b[39m \u001b[43mpfin_achain_bdy\u001b[49m\u001b[43m(\u001b[49m\u001b[43mrp2_antichain\u001b[49m\u001b[43m)\u001b[49m\n",
      "Cell \u001b[0;32mIn[1], line 50\u001b[0m, in \u001b[0;36mpfin_achain_bdy\u001b[0;34m(mflags)\u001b[0m\n\u001b[1;32m     45\u001b[0m \u001b[38;5;28;01massert\u001b[39;00m dev_b\u001b[38;5;241m.\u001b[39mrank() \u001b[38;5;241m==\u001b[39m \u001b[38;5;28mmin\u001b[39m(dev_b\u001b[38;5;241m.\u001b[39mshape), \u001b[38;5;124m\"\u001b[39m\u001b[38;5;124mdev_b not of full rank, sth wrong\u001b[39m\u001b[38;5;124m\"\u001b[39m    \n\u001b[1;32m     46\u001b[0m \u001b[38;5;66;03m#which means want to calc 0->B->Z->Z/B = H->0, i.e. coker dev_b,\u001b[39;00m\n\u001b[1;32m     47\u001b[0m \u001b[38;5;66;03m#i.e. Z/im dev_b, so we need to diagonalise dev_b, so the quotient\u001b[39;00m\n\u001b[1;32m     48\u001b[0m \u001b[38;5;66;03m# can just be read off\u001b[39;00m\n\u001b[0;32m---> 50\u001b[0m \u001b[38;5;28;01mreturn\u001b[39;00m (A,ker,dev_b,\u001b[43mflag_dict\u001b[49m)\n",
      "\u001b[0;31mNameError\u001b[0m: name 'flag_dict' is not defined"
     ]
    }
   ],
   "source": [
    "import numpy as np\n",
    "import sympy as sp\n",
    "\n",
    "def pfin_achain_bdy(mflags):\n",
    "    def flags_from_max_flags(mflags):\n",
    "        def powerset(iterable):\n",
    "            from itertools import chain, combinations\n",
    "            \"powerset([1,2,3]) --> () (1,) (2,) (3,) (1,2) (1,3) (2,3) (1,2,3)\"\n",
    "            s = list(iterable)\n",
    "            return chain.from_iterable(combinations(s, r) for r in range(len(s)+1))    \n",
    "        fl = mflags\n",
    "        all_flags = mflags\n",
    "        for flag in mflags:\n",
    "            contained_flags = powerset(flag)\n",
    "            all_flags += contained_flags\n",
    "            all_flags = sorted(set(all_flags),key=lambda x: (-len(x),x))\n",
    "        return all_flags    \n",
    "    def boundary_from_flags(flags):\n",
    "        def _ker(A:sp.Matrix):\n",
    "            k = A.nullspace()\n",
    "            return sp.Matrix(np.hstack(k))\n",
    "        def _im(A:sp.Matrix):\n",
    "            i = A.columnspace()\n",
    "            return sp.Matrix(np.hstack(i))\n",
    "        def _dec(A):\n",
    "            return _ker(A), _im(A)\n",
    "        flags = sorted(set(flags),key=lambda x: (-len(x),x))\n",
    "        A = np.zeros((len(flags),len(flags)),dtype=np.int8)\n",
    "        flag_dict = dict(enumerate(flags))\n",
    "        for i,flag in enumerate(flags):\n",
    "            for j in range(len(flag)):\n",
    "                sign = (-1)**j; bdj = tuple(sorted(list(flag[:j])+list(flag[j+1:])))\n",
    "                t_ix = flags.index(bdj)\n",
    "                A[t_ix,i] = sign\n",
    "        A = sp.Matrix(A)\n",
    "        ker,im = _dec(A)\n",
    "        return A,ker,im,flag_dict\n",
    "    res = boundary_from_flags(flags_from_max_flags(mflags))\n",
    "    assert np.array(res[0]*res[1]).max() == 0, \"kernel not a kernel\"\n",
    "    assert np.array(res[0]*res[2]).max() == 0, \"boundaries not subset of kernel\"\n",
    "    A,ker,im,flag_dict = res\n",
    "    dev_b = ker.solve(im) # erfuellt Z*dev_b = B .. i.e. ist matrix rep von i: B -> Z\n",
    "    #assert that it actually is a monomorphism as it should be\n",
    "    assert len(dev_b.nullspace()) == 0, \"dev_b not injective, sth wrong\"\n",
    "    assert dev_b.rank() == min(dev_b.shape), \"dev_b not of full rank, sth wrong\"    \n",
    "    #which means want to calc 0->B->Z->Z/B = H->0, i.e. coker dev_b,\n",
    "    #i.e. Z/im dev_b, so we need to diagonalise dev_b, so the quotient\n",
    "    # can just be read off\n",
    "    \n",
    "    return (A,ker,dev_b,flag_dict)\n",
    "    \n",
    "rp2_antichain = [(0,1,5),(1,2,5),(2,5,6),(0,2,6),(0,1,6),(1,4,6),(1,2,4),(0,2,4),(0,4,5),(4,5,6)]\n",
    "D,Z,B,simplex_dict = pfin_achain_bdy(rp2_antichain)"
   ]
  },
  {
   "cell_type": "code",
   "execution_count": null,
   "id": "7bd41952-b48c-4074-bc96-0304b2a7eeb7",
   "metadata": {},
   "outputs": [],
   "source": [
    "simplex_dict"
   ]
  }
 ],
 "metadata": {
  "kernelspec": {
   "display_name": "3.11.3",
   "language": "python",
   "name": "pyenv_3.11.3"
  },
  "language_info": {
   "codemirror_mode": {
    "name": "ipython",
    "version": 3
   },
   "file_extension": ".py",
   "mimetype": "text/x-python",
   "name": "python",
   "nbconvert_exporter": "python",
   "pygments_lexer": "ipython3",
   "version": "3.11.3"
  }
 },
 "nbformat": 4,
 "nbformat_minor": 5
}
