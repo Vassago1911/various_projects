{
 "cells": [
  {
   "cell_type": "code",
   "execution_count": 1,
   "id": "cb4524e3-081e-4cdb-b464-2237f0b96490",
   "metadata": {},
   "outputs": [],
   "source": [
    "import sympy\n",
    "\n",
    "def tuple_twist(x: tuple[int,int])-> tuple[int,int]:\n",
    "    return x[1],x[0]\n",
    "\n",
    "tau = tuple_twist\n",
    "\n",
    "for ch in [\"a\",\"b\",\"c\",\"d\",\"x\",\"y\",\"z\"]:\n",
    "    for i in range(10):\n",
    "        for j in range(10):\n",
    "            exec(f\"{ch}{i}{j}=sympy.symbols('{ch}{i}{j}')\")\n",
    "\n",
    "for ch in [\"A\",\"B\",\"C\",\"D\",\"X\",\"Y\",\"Z\"]:\n",
    "    for z in range(2,10):\n",
    "        for s in range(2,10):\n",
    "            lchar = ch.lower()\n",
    "            rows = \",\".join( [ \"[\"+ \",\".join([ f\"{lchar}{i}{j}\" for j in range(s) ])  +\"]\"   for i in range(z) ])\n",
    "            drows = \",\".join( [ \"[\"+ \",\".join([ f\"{lchar}{i}{j}\"  if i==j else \"0\" for j in range(s) ])  +\"]\"   for i in range(z) ])\n",
    "            trows = \",\".join( [ \"[\"+ \",\".join([ f\"{lchar}{i}{j}\"  if i<=j else \"0\" for j in range(s) ])  +\"]\"   for i in range(z) ])\n",
    "            etrows = \",\".join( [ \"[\"+ \",\".join([ f\"{lchar}{i}{j}\"  if i<j else (\"1\" if i==j else \"0\") for j in range(s) ])  +\"]\"   for i in range(z) ])\n",
    "            strows = \",\".join( [ \"[\"+ \",\".join([ f\"{lchar}{i}{j}\"  if i<j else \"0\"  for j in range(s)])  +\"]\"   for i in range(z) ])\n",
    "            lrows = \",\".join( [ \"[\"+ \",\".join([ f\"{lchar}{i}{j}\"  if i>=j else \"0\" for j in range(s) ])  +\"]\"   for i in range(z) ])\n",
    "            elrows = \",\".join( [ \"[\"+ \",\".join([ f\"{lchar}{i}{j}\"  if i>j else (\"1\" if i==j else \"0\") for j in range(s) ])  +\"]\"   for i in range(z) ])\n",
    "            slrows = \",\".join( [ \"[\"+ \",\".join([ f\"{lchar}{i}{j}\"  if i>j else \"0\"  for j in range(s)])  +\"]\"   for i in range(z) ])\n",
    "            for mat_sym,rows in zip([\"\",\"ET\",\"T\",\"ST\",\"EL\",\"L\",\"SL\",\"D\"],[rows,etrows,trows,strows,elrows,lrows,slrows,drows]):\n",
    "                matstr = f\"{mat_sym}{ch}{z}{s}=\"+\"sympy.Matrix([\"+rows+\"])\"\n",
    "                exec(matstr)\n",
    "\n",
    "def eijA(A,i,j,it,jt,k=1):\n",
    "    tmp = sympy.Matrix.eye(A.shape[0])\n",
    "    tmp[i,j] = -k*A[it,jt]\n",
    "    return tmp\n",
    "\n",
    "import numpy as np\n",
    "A = np.random.randint(-1,2,size=(8,8))\n",
    "testA = sympy.Matrix(A)\n",
    "\n",
    "#ETA66*ETB66"
   ]
  },
  {
   "cell_type": "code",
   "execution_count": 2,
   "id": "6aaddf4d-a5e8-4fea-98c5-5bda953cab4c",
   "metadata": {},
   "outputs": [],
   "source": [
    "def mand(a:tuple[int,int]=(0,0),b:tuple[int,int]=(0,0))->tuple[int,int]:\n",
    "    k,l = a; m,n = b\n",
    "    res = (k*m+l*m+k*n,l*n)\n",
    "    return tuple(map(sympy.expand,res))\n",
    "def mxor(a:tuple[int,int]=(0,0),b:tuple[int,int]=(0,0))->tuple[int,int]:\n",
    "    k,l = a; m,n = b\n",
    "    res = (k*m+l*n,l*m+k*n)\n",
    "    return tuple(map(sympy.expand,res))\n",
    "def mnxor(a:tuple[int,int]=(0,0),b:tuple[int,int]=(0,0))->tuple[int,int]:\n",
    "    k,l = a; m,n = b\n",
    "    res = (l*m+k*n,k*m+l*n)\n",
    "    return tuple(map(sympy.expand,res))\n",
    "def mor(a:tuple[int,int]=(0,0),b:tuple[int,int]=(0,0))->tuple[int,int]:\n",
    "    k,l = a; m,n = b\n",
    "    res = (k*m,l*n+l*m+k*n)\n",
    "    return tuple(map(sympy.expand,res))\n",
    "\n",
    "umand = (0,1)\n",
    "\n",
    "umxor = (1,0)\n",
    "umor  = (1,0)\n",
    "\n",
    "umnxor =(0,1)\n",
    "\n",
    "import sympy\n",
    "x,y = sympy.symbols(\"x y\")\n",
    "x0,x1,y0,y1,z0,z1 = sympy.symbols(\"x0 x1 y0 y1 z0 z1\")\n",
    "a,b,c = (x0,x1),(y0,y1),(z0,z1)\n",
    "\n",
    "for mu,u in zip([mand,mxor,mnxor,mor],[umand,umxor,umnxor,umor]):\n",
    "    assert (x,y) == mu(u,(x,y))\n",
    "    assert (x,y) == mu((x,y),u)\n",
    "\n",
    "for mu,lbl in zip([mand,mxor,mnxor,mor],[\"mand\",\"umxor\",\"umnxor\",\"umor\"]):\n",
    "    #print(lbl)\n",
    "    try:\n",
    "        assert mu(mu(a,b),c) == mu(a,mu(b,c)), f\"{mu(mu(a,b),c)}!={mu(a,mu(b,c))}\"\n",
    "        #print(\"associative!!\")\n",
    "    except:\n",
    "        assert \"non-associative mu found, code broken\"\n",
    "        #print(\"not associative!!\")"
   ]
  },
  {
   "cell_type": "code",
   "execution_count": 3,
   "id": "defbfeed-2bce-4cdd-affe-c78addcba92f",
   "metadata": {},
   "outputs": [
    {
     "name": "stdout",
     "output_type": "stream",
     "text": [
      "(x₀⋅y₀ + x₀⋅y₁ + x₁⋅y₀, x₁⋅y₁)\n",
      "(x₀⋅y₀ + x₁⋅y₁, x₀⋅y₁ + x₁⋅y₀)\n",
      "(x₀⋅y₁ + x₁⋅y₀, x₀⋅y₀ + x₁⋅y₁)\n",
      "(x₀⋅y₀, x₀⋅y₁ + x₁⋅y₀ + x₁⋅y₁)\n"
     ]
    }
   ],
   "source": [
    "for mu in [mand,mxor,mnxor,mor]:\n",
    "    sympy.pretty_print( mu(a,b) )\n",
    "\n",
    "#mxor(a,b) == (mnxor(a,b)[1],mnxor(a,b)[0])"
   ]
  },
  {
   "cell_type": "code",
   "execution_count": 61,
   "id": "763eda5a-fc5b-485b-8677-a5077993ea5d",
   "metadata": {},
   "outputs": [],
   "source": [
    "def eijn(i,j,n,k=1):\n",
    "    assert i!=j\n",
    "    assert i<n\n",
    "    assert j<n\n",
    "    assert -1<i\n",
    "    assert -1<j\n",
    "    res = sympy.Matrix(np.eye(n,dtype=np.int8))\n",
    "    res[i,j]=k\n",
    "    return res\n",
    "\n",
    "def tijn(i,j,n):\n",
    "    res = sympy.Matrix(np.zeros((n,n),dtype=np.int8))\n",
    "    for k in range(n):\n",
    "        if k not in [i,j]:\n",
    "            res[k,k]=1\n",
    "    res[i,j]=1; res[j,i]=1\n",
    "    return res\n",
    "\n",
    "def uin(i,n,u=-1):\n",
    "    res = sympy.Matrix(np.eye(n,dtype=np.int8))\n",
    "    res[i,i] = u\n",
    "    return res\n",
    "    "
   ]
  },
  {
   "cell_type": "code",
   "execution_count": 5,
   "id": "698defc6-82d7-462d-a6dc-0ff1591a3c69",
   "metadata": {},
   "outputs": [
    {
     "data": {
      "text/plain": [
       "True"
      ]
     },
     "execution_count": 5,
     "metadata": {},
     "output_type": "execute_result"
    }
   ],
   "source": [
    "s = eijn(0,1,4); t = eijn(2,3,4); s*t == t*s"
   ]
  },
  {
   "cell_type": "code",
   "execution_count": 6,
   "id": "12d2ad67-dbda-4f2d-b582-22acbdc923b7",
   "metadata": {},
   "outputs": [
    {
     "data": {
      "text/plain": [
       "True"
      ]
     },
     "execution_count": 6,
     "metadata": {},
     "output_type": "execute_result"
    }
   ],
   "source": [
    "u = eijn(0,1,3); v=eijn(1,2,3)\n",
    "( u*v != v*u ) and (u*v-v*u == eijn(0,2,3)-eijn(0,1,3,0))"
   ]
  },
  {
   "cell_type": "code",
   "execution_count": 7,
   "id": "b17366d3-468d-4ab0-b6d5-3f9ebe7d805e",
   "metadata": {},
   "outputs": [
    {
     "data": {
      "text/latex": [
       "$\\displaystyle \\left[\\begin{matrix}- a_{00} a_{10} + a_{00} & - a_{00} a_{11} + a_{01} & - a_{00} a_{12} + a_{02}\\\\a_{10} & a_{11} & a_{12}\\\\a_{20} & a_{21} & a_{22}\\end{matrix}\\right]$"
      ],
      "text/plain": [
       "Matrix([\n",
       "[-a00*a10 + a00, -a00*a11 + a01, -a00*a12 + a02],\n",
       "[           a10,            a11,            a12],\n",
       "[           a20,            a21,            a22]])"
      ]
     },
     "execution_count": 7,
     "metadata": {},
     "output_type": "execute_result"
    }
   ],
   "source": [
    "eijn(0,1,3,k=-a00)*A33"
   ]
  },
  {
   "cell_type": "code",
   "execution_count": 14,
   "id": "8654f85d-28d8-488b-9523-b25bfbb42458",
   "metadata": {},
   "outputs": [],
   "source": [
    "z = A66.copy()\n",
    "z[0,0]=1\n"
   ]
  },
  {
   "cell_type": "code",
   "execution_count": 15,
   "id": "89a2b5c8-2fac-4ff0-a549-d61c69a5d5e2",
   "metadata": {},
   "outputs": [
    {
     "data": {
      "text/latex": [
       "$\\displaystyle \\left[\\begin{matrix}1 & a_{01} & a_{02} & a_{03} & a_{04} & a_{05}\\\\a_{10} & a_{11} & a_{12} & a_{13} & a_{14} & a_{15}\\\\a_{20} & a_{21} & a_{22} & a_{23} & a_{24} & a_{25}\\\\a_{30} & a_{31} & a_{32} & a_{33} & a_{34} & a_{35}\\\\a_{40} & a_{41} & a_{42} & a_{43} & a_{44} & a_{45}\\\\a_{50} & a_{51} & a_{52} & a_{53} & a_{54} & a_{55}\\end{matrix}\\right]$"
      ],
      "text/plain": [
       "Matrix([\n",
       "[  1, a01, a02, a03, a04, a05],\n",
       "[a10, a11, a12, a13, a14, a15],\n",
       "[a20, a21, a22, a23, a24, a25],\n",
       "[a30, a31, a32, a33, a34, a35],\n",
       "[a40, a41, a42, a43, a44, a45],\n",
       "[a50, a51, a52, a53, a54, a55]])"
      ]
     },
     "execution_count": 15,
     "metadata": {},
     "output_type": "execute_result"
    }
   ],
   "source": [
    "z"
   ]
  },
  {
   "cell_type": "code",
   "execution_count": 20,
   "id": "5c98494a-01b2-4371-b39f-55516575da01",
   "metadata": {},
   "outputs": [
    {
     "data": {
      "text/latex": [
       "$\\displaystyle \\left[\\begin{matrix}1 & 0 & 0 & 0 & 0 & 0\\\\0 & - a_{01} a_{10} + a_{11} & - a_{02} a_{10} + a_{12} & - a_{03} a_{10} + a_{13} & - a_{04} a_{10} + a_{14} & - a_{05} a_{10} + a_{15}\\\\0 & - a_{01} a_{20} + a_{21} & - a_{02} a_{20} + a_{22} & - a_{03} a_{20} + a_{23} & - a_{04} a_{20} + a_{24} & - a_{05} a_{20} + a_{25}\\\\0 & - a_{01} a_{30} + a_{31} & - a_{02} a_{30} + a_{32} & - a_{03} a_{30} + a_{33} & - a_{04} a_{30} + a_{34} & - a_{05} a_{30} + a_{35}\\\\0 & - a_{01} a_{40} + a_{41} & - a_{02} a_{40} + a_{42} & - a_{03} a_{40} + a_{43} & - a_{04} a_{40} + a_{44} & - a_{05} a_{40} + a_{45}\\\\0 & - a_{01} a_{50} + a_{51} & - a_{02} a_{50} + a_{52} & - a_{03} a_{50} + a_{53} & - a_{04} a_{50} + a_{54} & - a_{05} a_{50} + a_{55}\\end{matrix}\\right]$"
      ],
      "text/plain": [
       "Matrix([\n",
       "[1,              0,              0,              0,              0,              0],\n",
       "[0, -a01*a10 + a11, -a02*a10 + a12, -a03*a10 + a13, -a04*a10 + a14, -a05*a10 + a15],\n",
       "[0, -a01*a20 + a21, -a02*a20 + a22, -a03*a20 + a23, -a04*a20 + a24, -a05*a20 + a25],\n",
       "[0, -a01*a30 + a31, -a02*a30 + a32, -a03*a30 + a33, -a04*a30 + a34, -a05*a30 + a35],\n",
       "[0, -a01*a40 + a41, -a02*a40 + a42, -a03*a40 + a43, -a04*a40 + a44, -a05*a40 + a45],\n",
       "[0, -a01*a50 + a51, -a02*a50 + a52, -a03*a50 + a53, -a04*a50 + a54, -a05*a50 + a55]])"
      ]
     },
     "execution_count": 20,
     "metadata": {},
     "output_type": "execute_result"
    }
   ],
   "source": [
    "eijn(1,0,6,-a10)*eijn(2,0,6,-a20)*eijn(3,0,6,-a30)*eijn(4,0,6,-a40)*eijn(5,0,6,-a50)*z*eijn(0,1,6,-a01)*eijn(0,2,6,-a02)*eijn(0,3,6,-a03)*eijn(0,4,6,-a04)*eijn(0,5,6,-a05)"
   ]
  },
  {
   "cell_type": "code",
   "execution_count": 21,
   "id": "6d4f98c1-5d96-49de-95b6-875a6b1ab63d",
   "metadata": {},
   "outputs": [],
   "source": [
    "A = sympy.Matrix(np.random.randint(0,4,size=(6,6)))"
   ]
  },
  {
   "cell_type": "code",
   "execution_count": 25,
   "id": "e71724e6-cf46-4f21-9a22-9af95d0967fe",
   "metadata": {},
   "outputs": [],
   "source": [
    "A1 = eijn(5,0,6,-2)*eijn(4,0,6,-2)*eijn(3,0,6,-3)*eijn(2,0,6,-2)*A*eijn(0,2,6,-1)*eijn(0,4,6,-3)*eijn(0,5,6,-2)"
   ]
  },
  {
   "cell_type": "code",
   "execution_count": 33,
   "id": "92917f3a-eaaa-4f73-875c-077bd625d66d",
   "metadata": {},
   "outputs": [],
   "source": [
    "A2 = eijn(1,3,6,-3)*eijn(4,3,6,-3)*A1*eijn(3,2,6,2)*eijn(3,4,6,6)*eijn(3,5,6,4)"
   ]
  },
  {
   "cell_type": "code",
   "execution_count": 39,
   "id": "4e52485c-a726-4d19-bca1-142884e6f208",
   "metadata": {},
   "outputs": [],
   "source": [
    "A3 = eijn(1,2,6,7)*eijn(4,2,6,5)*eijn(5,2,6,-1)*A2*eijn(2,1,6,2)*eijn(2,4,6,-4)*eijn(2,5,6,-1)"
   ]
  },
  {
   "cell_type": "code",
   "execution_count": 45,
   "id": "b832170b-3fd6-41d7-a2da-13dff9e3fdf5",
   "metadata": {},
   "outputs": [],
   "source": [
    "A4 = eijn(4,5,6,7)*eijn(1,5,6,7)*A3*eijn(4,1,6,1)*eijn(4,5,6,3)"
   ]
  },
  {
   "cell_type": "code",
   "execution_count": 67,
   "id": "14eb085c-0a48-4049-be7e-4f5a69474a0e",
   "metadata": {},
   "outputs": [],
   "source": [
    "A5 = tijn(3,2,6)*tijn(4,3,6)*A4*tijn(5,2,6)*tijn(5,3,6)*tijn(5,4,6)*uin(2,6)*uin(3,6)"
   ]
  },
  {
   "cell_type": "code",
   "execution_count": 72,
   "id": "c8a65a44-afa8-44ea-8a86-b03d6d1c24c6",
   "metadata": {},
   "outputs": [],
   "source": [
    "A6 = tijn(4,1,6)*tijn(5,2,6)*A5*tijn(5,2,6)*tijn(4,1,6)"
   ]
  },
  {
   "cell_type": "code",
   "execution_count": 77,
   "id": "32992b71-9c24-477f-903f-6ddded066292",
   "metadata": {},
   "outputs": [
    {
     "data": {
      "text/latex": [
       "$\\displaystyle \\left[\\begin{matrix}1 & 0 & 0 & 0 & 0 & 0\\\\0 & 1 & 0 & 0 & 0 & 0\\\\0 & 0 & 1 & 0 & 0 & 0\\\\0 & 0 & 0 & 1 & 0 & 0\\\\0 & 0 & 0 & 0 & 1 & 0\\\\0 & 0 & 0 & 0 & 0 & 72\\end{matrix}\\right]$"
      ],
      "text/plain": [
       "Matrix([\n",
       "[1, 0, 0, 0, 0,  0],\n",
       "[0, 1, 0, 0, 0,  0],\n",
       "[0, 0, 1, 0, 0,  0],\n",
       "[0, 0, 0, 1, 0,  0],\n",
       "[0, 0, 0, 0, 1,  0],\n",
       "[0, 0, 0, 0, 0, 72]])"
      ]
     },
     "execution_count": 77,
     "metadata": {},
     "output_type": "execute_result"
    }
   ],
   "source": [
    "A7 = eijn(5,4,6,21)*A6*eijn(4,5,6,-1)*eijn(5,4,6,-3)*eijn(4,5,6,-3)"
   ]
  }
 ],
 "metadata": {
  "kernelspec": {
   "display_name": "3.11.3",
   "language": "python",
   "name": "pyenv_3.11.3"
  },
  "language_info": {
   "codemirror_mode": {
    "name": "ipython",
    "version": 3
   },
   "file_extension": ".py",
   "mimetype": "text/x-python",
   "name": "python",
   "nbconvert_exporter": "python",
   "pygments_lexer": "ipython3",
   "version": "3.11.3"
  }
 },
 "nbformat": 4,
 "nbformat_minor": 5
}
