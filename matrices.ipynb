{
 "cells": [
  {
   "cell_type": "code",
   "execution_count": 1,
   "id": "c9fc5205-1339-4c38-918c-a92d464aa62a",
   "metadata": {},
   "outputs": [],
   "source": [
    "import numpy as np\n",
    "import sympy as sp\n",
    "\n",
    "def pfin_achain_bdy(mflags):\n",
    "    def flags_from_max_flags(mflags):\n",
    "        def powerset(iterable):\n",
    "            from itertools import chain, combinations\n",
    "            \"powerset([1,2,3]) --> () (1,) (2,) (3,) (1,2) (1,3) (2,3) (1,2,3)\"\n",
    "            s = list(iterable)\n",
    "            return chain.from_iterable(combinations(s, r) for r in range(len(s)+1))    \n",
    "        fl = mflags\n",
    "        all_flags = mflags\n",
    "        for flag in mflags:\n",
    "            contained_flags = powerset(flag)\n",
    "            all_flags += contained_flags\n",
    "            all_flags = sorted(set(all_flags),key=lambda x: (-len(x),x))\n",
    "        return all_flags    \n",
    "    def boundary_from_flags(flags):\n",
    "        def _ker(A:sp.Matrix):\n",
    "            k = A.nullspace()\n",
    "            return sp.Matrix(np.hstack(k))\n",
    "        def _im(A:sp.Matrix):\n",
    "            i = A.columnspace()\n",
    "            return sp.Matrix(np.hstack(i))\n",
    "        def _dec(A):\n",
    "            return _ker(A), _im(A)\n",
    "        flags = sorted(set(flags),key=lambda x: (-len(x),x))\n",
    "        A = np.zeros((len(flags),len(flags)),dtype=np.int8)\n",
    "        flag_dict = dict(enumerate(flags))\n",
    "        for i,flag in enumerate(flags):\n",
    "            for j in range(len(flag)):\n",
    "                sign = (-1)**j; bdj = tuple(sorted(list(flag[:j])+list(flag[j+1:])))\n",
    "                t_ix = flags.index(bdj)\n",
    "                A[t_ix,i] = sign\n",
    "        A = sp.Matrix(A)\n",
    "        ker,im = _dec(A)\n",
    "        return A,ker,im,flag_dict\n",
    "    res = boundary_from_flags(flags_from_max_flags(mflags))\n",
    "    assert np.array(res[0]*res[1]).max() == 0, \"kernel not a kernel\"\n",
    "    assert np.array(res[0]*res[2]).max() == 0, \"boundaries not subset of kernel\"\n",
    "    A,ker,im,flag_dict = res\n",
    "    dev_b = ker.solve(im) # erfuellt Z*dev_b = B .. i.e. ist matrix rep von im ( i: B -> Z ) sub Z\n",
    "    #assert that it actually is a monomorphism as it should be\n",
    "    assert len(dev_b.nullspace()) == 0, \"dev_b not injective, sth wrong\"\n",
    "    assert dev_b.rank() == min(dev_b.shape), \"dev_b not of full rank, sth wrong\"    \n",
    "    #which means want to calc 0->B->Z->Z/B = H->0, i.e. coker dev_b,\n",
    "    #i.e. Z/im dev_b, so we need to diagonalise dev_b, so the quotient\n",
    "    # can just be read off\n",
    "    \n",
    "    return (A,ker,dev_b,flag_dict)\n",
    "    \n",
    "rp2_antichain = [(0,1,5),(1,2,5),(2,5,6),(0,2,6),(0,1,6),(1,4,6),(1,2,4),(0,2,4),(0,4,5),(4,5,6)]\n",
    "D,Z,B,simplex_dict = pfin_achain_bdy(rp2_antichain)"
   ]
  },
  {
   "cell_type": "code",
   "execution_count": 35,
   "id": "f32b2d33-d23c-485d-b2dc-7f0c9df2f21b",
   "metadata": {},
   "outputs": [
    {
     "data": {
      "text/latex": [
       "$\\displaystyle \\left[\\begin{matrix}-3 & -3 & -3 & 1 & 2 & -3 & -2 & 0 & -1 & -3\\\\-1 & 1 & 0 & 0 & -3 & 2 & -1 & -3 & 1 & -1\\\\0 & -2 & 2 & -1 & -2 & -1 & -1 & -2 & 2 & 0\\\\-1 & 2 & -2 & 1 & 0 & 1 & 2 & -1 & 2 & 2\\\\1 & 2 & -2 & 0 & -2 & -2 & 1 & 0 & -1 & -3\\\\2 & 0 & -2 & -3 & 0 & -2 & 2 & 2 & 0 & -1\\\\0 & -2 & 0 & 1 & -3 & -3 & 0 & -1 & 2 & 0\\\\1 & 0 & -3 & 1 & -3 & 2 & -1 & 1 & 1 & -2\\end{matrix}\\right]$"
      ],
      "text/plain": [
       "Matrix([\n",
       "[-3, -3, -3,  1,  2, -3, -2,  0, -1, -3],\n",
       "[-1,  1,  0,  0, -3,  2, -1, -3,  1, -1],\n",
       "[ 0, -2,  2, -1, -2, -1, -1, -2,  2,  0],\n",
       "[-1,  2, -2,  1,  0,  1,  2, -1,  2,  2],\n",
       "[ 1,  2, -2,  0, -2, -2,  1,  0, -1, -3],\n",
       "[ 2,  0, -2, -3,  0, -2,  2,  2,  0, -1],\n",
       "[ 0, -2,  0,  1, -3, -3,  0, -1,  2,  0],\n",
       "[ 1,  0, -3,  1, -3,  2, -1,  1,  1, -2]])"
      ]
     },
     "execution_count": 35,
     "metadata": {},
     "output_type": "execute_result"
    }
   ],
   "source": [
    "M = sp.Matrix(np.random.randint(-3,3,size=(8,10)))\n",
    "M"
   ]
  },
  {
   "cell_type": "code",
   "execution_count": 38,
   "id": "4bec5907-1b9d-4cd0-a91e-2216043d538c",
   "metadata": {},
   "outputs": [],
   "source": [
    "P,L,dia,U=M.LUdecompositionFF()"
   ]
  },
  {
   "cell_type": "code",
   "execution_count": 44,
   "id": "40b9830a-e1f4-4389-8d04-07c229d2e9e8",
   "metadata": {},
   "outputs": [
    {
     "data": {
      "text/latex": [
       "$\\displaystyle \\left[\\begin{matrix}-3 & -3 & -3 & 1 & 2 & -3 & -2 & 0 & -1 & -3\\\\-1 & 1 & 0 & 0 & -3 & 2 & -1 & -3 & 1 & -1\\\\0 & -2 & 2 & -1 & -2 & -1 & -1 & -2 & 2 & 0\\\\-1 & 2 & -2 & 1 & 0 & 1 & 2 & -1 & 2 & 2\\\\1 & 2 & -2 & 0 & -2 & -2 & 1 & 0 & -1 & -3\\\\2 & 0 & -2 & -3 & 0 & -2 & 2 & 2 & 0 & -1\\\\0 & -2 & 0 & 1 & -3 & -3 & 0 & -1 & 2 & 0\\\\1 & 0 & -3 & 1 & -3 & 2 & -1 & 1 & 1 & -2\\end{matrix}\\right]$"
      ],
      "text/plain": [
       "Matrix([\n",
       "[-3, -3, -3,  1,  2, -3, -2,  0, -1, -3],\n",
       "[-1,  1,  0,  0, -3,  2, -1, -3,  1, -1],\n",
       "[ 0, -2,  2, -1, -2, -1, -1, -2,  2,  0],\n",
       "[-1,  2, -2,  1,  0,  1,  2, -1,  2,  2],\n",
       "[ 1,  2, -2,  0, -2, -2,  1,  0, -1, -3],\n",
       "[ 2,  0, -2, -3,  0, -2,  2,  2,  0, -1],\n",
       "[ 0, -2,  0,  1, -3, -3,  0, -1,  2,  0],\n",
       "[ 1,  0, -3,  1, -3,  2, -1,  1,  1, -2]])"
      ]
     },
     "execution_count": 44,
     "metadata": {},
     "output_type": "execute_result"
    }
   ],
   "source": [
    "P**(-1)*L*dia**(-1)*U"
   ]
  }
 ],
 "metadata": {
  "kernelspec": {
   "display_name": "3.11.3",
   "language": "python",
   "name": "pyenv_3.11.3"
  },
  "language_info": {
   "codemirror_mode": {
    "name": "ipython",
    "version": 3
   },
   "file_extension": ".py",
   "mimetype": "text/x-python",
   "name": "python",
   "nbconvert_exporter": "python",
   "pygments_lexer": "ipython3",
   "version": "3.11.3"
  }
 },
 "nbformat": 4,
 "nbformat_minor": 5
}
